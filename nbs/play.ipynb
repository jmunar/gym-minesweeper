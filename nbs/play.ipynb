{
 "cells": [
  {
   "cell_type": "code",
   "execution_count": 1,
   "id": "108ea415",
   "metadata": {},
   "outputs": [],
   "source": [
    "import gym\n",
    "import numpy as np"
   ]
  },
  {
   "cell_type": "markdown",
   "id": "0131c5e1",
   "metadata": {},
   "source": [
    "Play a single step:"
   ]
  },
  {
   "cell_type": "code",
   "execution_count": 2,
   "id": "bfa4ae1f",
   "metadata": {},
   "outputs": [
    {
     "data": {
      "image/png": "[encoded data removed]",
      "text/plain": [
       "<Figure size 144x144 with 1 Axes>"
      ]
     },
     "metadata": {
      "needs_background": "light"
     },
     "output_type": "display_data"
    }
   ],
   "source": [
    "env = gym.make('gym_minesweeper:minesweeper-v0')\n",
    "np.random.seed(42)\n",
    "\n",
    "action = (4, 3)\n",
    "env.step(action)\n",
    "env.render(action=action)"
   ]
  },
  {
   "cell_type": "markdown",
   "id": "0efa8766",
   "metadata": {},
   "source": [
    "Play a full (random) game, and show all the steps:"
   ]
  },
  {
   "cell_type": "code",
   "execution_count": 3,
   "id": "cf72da56",
   "metadata": {},
   "outputs": [
    {
     "data": {
      "image/png": "[encoded data removed]",
      "text/plain": [
       "<Figure size 684x324 with 5 Axes>"
      ]
     },
     "metadata": {
      "needs_background": "light"
     },
     "output_type": "display_data"
    }
   ],
   "source": [
    "env = gym.make('gym_minesweeper:minesweeper-v0')\n",
    "np.random.seed(14)\n",
    "env.action_space.np_random.seed(14)\n",
    "\n",
    "for ax in env.render_grid(nrows=2, ncols=4):\n",
    "    action = env.action_space.sample()\n",
    "    _, _, done, _  = env.step(action)\n",
    "    env.render(action, ax=ax)\n",
    "    if done:\n",
    "        break"
   ]
  }
 ],
 "metadata": {
  "kernelspec": {
   "display_name": "Python [conda env:baselines-env]",
   "language": "python",
   "name": "conda-env-baselines-env-py"
  },
  "language_info": {
   "codemirror_mode": {
    "name": "ipython",
    "version": 3
   },
   "file_extension": ".py",
   "mimetype": "text/x-python",
   "name": "python",
   "nbconvert_exporter": "python",
   "pygments_lexer": "ipython3",
   "version": "3.8.8"
  }
 },
 "nbformat": 4,
 "nbformat_minor": 5
}
